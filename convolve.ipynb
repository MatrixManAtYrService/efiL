{
 "cells": [
  {
   "cell_type": "code",
   "execution_count": 263,
   "id": "personal-reading",
   "metadata": {},
   "outputs": [],
   "source": [
    "import numpy as np\n",
    "import pandas as pd\n",
    "import matplotlib.pyplot as plt\n",
    "import matplotlib.colors as clr\n",
    "from scipy.signal import convolve2d\n",
    "\n",
    "# plot helpers\n",
    "def setplot(p):\n",
    "    p.axes.xaxis.set_ticks([])\n",
    "    p.axes.yaxis.set_ticks([])\n",
    "\n",
    "transparent = clr.colorConverter.to_rgba('white',alpha=0)\n",
    "grow = clr.ListedColormap([transparent,'green'])\n",
    "dense = clr.ListedColormap([transparent,'firebrick'])\n",
    "diffuse = clr.ListedColormap([transparent,'lightcoral'])\n",
    "persist = clr.ListedColormap([transparent,'grey'])\n",
    "\n",
    "        \n",
    "def plotforward(num_board, showfast=False):\n",
    "    \n",
    "    # count neighbors\n",
    "    # https://nicholasrui.com/2017/12/18/convolutions-and-the-game-of-life/\n",
    "    neigh = np.ones((3,3))\n",
    "    neigh[1][1] = 0\n",
    "    neighbors = convolve2d(num_board, neigh, mode='same', boundary='wrap')\n",
    "    board = (num_board == 1)\n",
    "    \n",
    "    # apply rules\n",
    "    underpop = (neighbors < 2) & board\n",
    "    survive = np.vectorize(lambda x: 2 <= x <= 3)(neighbors) & board\n",
    "    overpop = (neighbors > 3) & board\n",
    "    newgrow = (neighbors == 3) & ~board\n",
    "    nextboard = newgrow | survive\n",
    "\n",
    "    # plot it\n",
    "    fig, plot = plt.subplots(1, 3, figsize=(10,15))\n",
    "    for p in plot:\n",
    "        setplot(p)\n",
    "    plot[0].imshow(board, cmap='binary')\n",
    "    plot[1].imshow(underpop, cmap=diffuse)\n",
    "    plot[1].imshow(newgrow, cmap=grow)\n",
    "    plot[1].imshow(survive, cmap=persist)\n",
    "    plot[1].imshow(overpop, cmap=dense)\n",
    "    plot[2].imshow(nextboard, cmap='binary')\n",
    "    \n",
    "    if showfast:\n",
    "\n",
    "        # same thing, but fewer intermediary steps\n",
    "        cell_ct = np.ones((3,3))\n",
    "        cells = convolve2d(num_board, cell_ct, mode='same', boundary='wrap')\n",
    "        fastnext = (cells == 3) | (board & (cells == 4))\n",
    "        \n",
    "        # plot it\n",
    "        fig, plot = plt.subplots(1, 1, figsize=(3,3))\n",
    "        setplot([plot])\n",
    "        plot.imshow(fastnext, cmap='binary')\n",
    "    \n",
    "    return np.vectorize(lambda x: {True : 1, False: 0}[x])(nextboard)"
   ]
  },
  {
   "cell_type": "code",
   "execution_count": 264,
   "id": "fancy-fifth",
   "metadata": {},
   "outputs": [
    {
     "data": {
      "image/png": "[encoded data removed]",
      "text/plain": [
       "<Figure size 720x1080 with 3 Axes>"
      ]
     },
     "metadata": {},
     "output_type": "display_data"
    }
   ],
   "source": [
    "start = np.zeros((6,5))\n",
    "start[1][2] = 1\n",
    "start[2][3] = 1\n",
    "start[3][1] = 1\n",
    "start[3][2] = 1\n",
    "start[3][3] = 1\n",
    "\n",
    "middle = plotforward(start)"
   ]
  },
  {
   "cell_type": "code",
   "execution_count": 265,
   "id": "crazy-venue",
   "metadata": {},
   "outputs": [
    {
     "data": {
      "image/png": "[encoded data removed]",
      "text/plain": [
       "<Figure size 720x1080 with 3 Axes>"
      ]
     },
     "metadata": {},
     "output_type": "display_data"
    }
   ],
   "source": [
    "end = plotforward(middle)"
   ]
  },
  {
   "cell_type": "code",
   "execution_count": 356,
   "id": "ordinary-irish",
   "metadata": {},
   "outputs": [],
   "source": [
    "from sortedcontainers import SortedDict\n",
    "from matplotlib.colors import ListedColormap\n",
    "from IPython.display import display, Math, Latex\n",
    "\n",
    "bluish = clr.colorConverter.to_rgba('cornflowerblue',alpha=0.4)\n",
    "purplish = clr.colorConverter.to_rgba('darkorchid',alpha=0.6)\n",
    "\n",
    "inscope = clr.ListedColormap([transparent,bluish])\n",
    "targeted = clr.ListedColormap([transparent,purplish])\n",
    "booltrans =  grow = clr.ListedColormap([transparent,'black'])\n",
    "gray = clr.ListedColormap(['white','gray'])\n",
    "lightgray = clr.ListedColormap(['white','lightgray'])\n",
    "\n",
    "def summarize(story_arc, board, overlap=False):\n",
    "    \n",
    "    max_x = board.shape[1]\n",
    "    max_y = board.shape[0]\n",
    "    \n",
    "    if overlap:\n",
    "        \n",
    "        # just one plot\n",
    "        fig, plot = plt.subplots(1, 1, figsize=(2, 2))\n",
    "        setplot(plot)\n",
    "        plot.imshow(board, cmap=gray)\n",
    "        for x, y in story_arc:\n",
    "            scope = np.zeros((max_y, max_x))\n",
    "            for oy in range(-1,2):\n",
    "                for ox in range(-1,2):\n",
    "                    ix = (x + ox) % max_x \n",
    "                    iy = (y + oy) % max_y \n",
    "                    scope[iy, ix] = 1\n",
    "            plot.imshow(scope, cmap=inscope)\n",
    "            \n",
    "        return \n",
    "                                      \n",
    "        \n",
    "    \n",
    "\n",
    "    y_vals = set(c[1] for c in story_arc)\n",
    "    min_y = min(y_vals)\n",
    "    ct_y = len(y_vals)\n",
    "    ct_x = len(board[0])\n",
    "    \n",
    "    include = np.zeros((ct_y, ct_x))\n",
    "    for x, y in story_arc:\n",
    "        include[y - min_y][x] = 1\n",
    "\n",
    "    # layout\n",
    "    plots_by_y = SortedDict()\n",
    "    fig, all_plots = plt.subplots(ct_y, ct_x, figsize=(2*ct_x,2*ct_y))\n",
    "    for (y,x), show in np.ndenumerate(include):\n",
    "        plot = all_plots[y][x]\n",
    "        setplot(plot)\n",
    "        if show:   \n",
    "            plots_by_y.setdefault(y + min_y, SortedDict())[x] = plot\n",
    "        else:\n",
    "            plot.axis('off')\n",
    "            \n",
    "    # plots\n",
    "    for y, plots_by_x in plots_by_y.items():\n",
    "        for x, plot in plots_by_x.items():\n",
    "            plot.title.set_text(f\"{x},{y}\")\n",
    "            scope = np.zeros((max_y, max_x))\n",
    "            bullseye = np.zeros((max_y, max_x))\n",
    "            \n",
    "            for oy in range(-1,2):\n",
    "                for ox in range(-1,2):\n",
    "                    ix = (x + ox) % max_x \n",
    "                    iy = (y + oy) % max_y \n",
    "                    if oy == ox == 0:\n",
    "                        bullseye[iy, ix] = 1\n",
    "                    else:\n",
    "                        scope[iy, ix] = 1\n",
    "            plot.imshow(board, cmap=gray)\n",
    "            plot.imshow(scope, cmap=inscope)\n",
    "            plot.imshow(bullseye, cmap=targeted)\n",
    "    \n",
    "def get_neighborhood(x, y, board):\n",
    "    max_x = board.shape[1]\n",
    "    max_y = board.shape[0]\n",
    "    neighborhood = np.zeros((3,3))\n",
    "    for oy in range(-1,2):\n",
    "        for ox in range(-1,2):\n",
    "            ix = (x + ox) % max_x \n",
    "            iy = (y + oy) % max_y\n",
    "            neighborhood[oy + 1,ox + 1] = board[iy,ix]\n",
    "    return neighborhood\n",
    "            \n",
    "            \n",
    "def tell(story, board):\n",
    "    x, y = story\n",
    "    neighborhood = get_neighborhood(x,y,board)\n",
    "    fig, plot = plt.subplots(1, 1, figsize=(2,2))\n",
    "    setplot(plot)\n",
    "    plot.imshow(neighborhood, cmap=gray)\n",
    "    targetmask = np.zeros((3,3))\n",
    "    targetmask[1,1] = 1\n",
    "    plot.imshow((neighborhood != 0) & (targetmask != 0), cmap=booltrans)\n",
    "    labels = list(\"abcdefghi\")\n",
    "    c = 0\n",
    "    mode = None\n",
    "    for i in range(3):\n",
    "        for j in range(3):\n",
    "            if neighborhood[i,j]:\n",
    "                mode = 'alive'\n",
    "                plot.annotate(labels[c],(j,i), color='w', size=14, weight=\"bold\", ha=\"center\", va=\"center\")\n",
    "            else:\n",
    "                mode = 'dead'\n",
    "                plot.annotate(labels[c],(j,i), size=14, weight=\"bold\", ha=\"center\", va=\"center\")\n",
    "            c += 1\n",
    "    \n",
    "    if mode == 'alive':\n",
    "        display(\"foo\")\n",
    "    elif mode == 'dead': \n",
    "        display(\"bar\")\n",
    "    else:\n",
    "        raise Exception(f\"what's {mode}\")\n",
    "\n",
    "\n",
    "\n",
    "    \n",
    "plan = []        # the whole story\n",
    "summary = []     # the current arc\n",
    "def storyboard(board, zoom=[]):\n",
    "    \n",
    "    def finalize():\n",
    "        \"last cell in a summary, add this summary and start fresh\"\n",
    "        global summary\n",
    "        if summary:\n",
    "            plan.append(summary)\n",
    "            summary = []\n",
    "                \n",
    "    # decide which cells to summarize and which to show details for\n",
    "    for y, rows in enumerate(board):\n",
    "        for x, cell in enumerate(rows):\n",
    "            if (x, y) not in zoom:\n",
    "                summary.append((x, y))\n",
    "            else:\n",
    "                summary.append((x, y))\n",
    "                finalize()\n",
    "                plan.append((x,y))\n",
    "    finalize()\n",
    "    return plan"
   ]
  },
  {
   "cell_type": "markdown",
   "id": "instant-silver",
   "metadata": {},
   "source": [
    "To run Life backwards we ask:\n",
    "> Given that this cell is alive/dead at $t$, what could it and its neighbors have been at $t-1$?\n",
    "\n",
    "If it is **alive**, then maybe it was previously alive with...\n",
    " - 2, o living neigbors, or\n",
    " - 3  neighbors.\n",
    " \n",
    "Or it could have been dead with...\n",
    " - three alive neighbors.\n",
    "\n",
    "If it is **dead**, then it could have been dead with...\n",
    " - 0, 1, 2, or 4 living neighbors\n",
    " \n",
    "Or alive with...\n",
    " - 0, 1, or 4 living neighbors\n",
    "\n",
    "In our 5x6 grid there are 30 cells to ask this about.\n",
    "Suppose we scan from the top left to the bottom right."
   ]
  },
  {
   "cell_type": "code",
   "execution_count": 357,
   "id": "equivalent-philosophy",
   "metadata": {},
   "outputs": [],
   "source": [
    "scenes = storyboard(end, zoom=[(3,1),(1,3)])\n",
    "arc1 = scenes[0]\n",
    "example1 = scenes[1]\n",
    "arc2 = scenes[2]\n",
    "example1 = scenes[3]\n",
    "arc3 = scenes[4]"
   ]
  },
  {
   "cell_type": "code",
   "execution_count": 358,
   "id": "involved-universal",
   "metadata": {},
   "outputs": [
    {
     "data": {
      "image/png": "[encoded data removed]",
      "text/plain": [
       "<Figure size 720x288 with 10 Axes>"
      ]
     },
     "metadata": {},
     "output_type": "display_data"
    }
   ],
   "source": [
    "summarize(arc1, end)"
   ]
  },
  {
   "cell_type": "markdown",
   "id": "loaded-ceremony",
   "metadata": {},
   "source": [
    "Notice that there is a lot of overlap here.\n",
    "Most of the cells in neighborhood 0,1 are also part of neighborhood 1,1."
   ]
  },
  {
   "cell_type": "code",
   "execution_count": 355,
   "id": "welsh-nicaragua",
   "metadata": {},
   "outputs": [
    {
     "data": {
      "image/png": "[encoded data removed]",
      "text/plain": [
       "<Figure size 144x144 with 1 Axes>"
      ]
     },
     "metadata": {},
     "output_type": "display_data"
    }
   ],
   "source": [
    "summarize(arc1[6:8], end, overlap=True)"
   ]
  },
  {
   "cell_type": "code",
   "execution_count": null,
   "id": "surgical-people",
   "metadata": {},
   "outputs": [],
   "source": []
  },
  {
   "cell_type": "code",
   "execution_count": null,
   "id": "dental-basin",
   "metadata": {},
   "outputs": [],
   "source": []
  }
 ],
 "metadata": {
  "kernelspec": {
   "display_name": "Python 3",
   "language": "python",
   "name": "python3"
  },
  "language_info": {
   "codemirror_mode": {
    "name": "ipython",
    "version": 3
   },
   "file_extension": ".py",
   "mimetype": "text/x-python",
   "name": "python",
   "nbconvert_exporter": "python",
   "pygments_lexer": "ipython3",
   "version": "3.7.3"
  }
 },
 "nbformat": 4,
 "nbformat_minor": 5
}
