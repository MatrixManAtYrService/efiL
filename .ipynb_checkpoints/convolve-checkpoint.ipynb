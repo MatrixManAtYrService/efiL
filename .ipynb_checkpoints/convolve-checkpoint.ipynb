{
 "cells": [
  {
   "cell_type": "code",
   "execution_count": 255,
   "id": "answering-motor",
   "metadata": {},
   "outputs": [],
   "source": [
    "from IPython.core.display import HTML\n",
    "#HTML(\"\"\"\n",
    "#<style>\n",
    "#.output_png {\n",
    "    #display: table-cell;\n",
    "    #text-align: center;\n",
    "    #vertical-align: middle;\n",
    "#}\n",
    "#</style>\n",
    "#\"\"\")"
   ]
  },
  {
   "cell_type": "code",
   "execution_count": 256,
   "id": "personal-reading",
   "metadata": {},
   "outputs": [],
   "source": [
    "import numpy as np\n",
    "import pandas as pd\n",
    "import matplotlib.pyplot as plt\n",
    "import matplotlib.colors as clr\n",
    "from scipy.signal import convolve2d\n",
    "\n",
    "# plot helpers\n",
    "def setplot(p):\n",
    "    p.axes.xaxis.set_ticks([])\n",
    "    p.axes.yaxis.set_ticks([])\n",
    "\n",
    "transparent = clr.colorConverter.to_rgba('white',alpha=0)\n",
    "grow = clr.ListedColormap([transparent,'green'])\n",
    "dense = clr.ListedColormap([transparent,'firebrick'])\n",
    "diffuse = clr.ListedColormap([transparent,'lightcoral'])\n",
    "persist = clr.ListedColormap([transparent,'grey'])\n",
    "        \n",
    "def plotforward(num_board, showfast=False):\n",
    "    \n",
    "    # count neighbors\n",
    "    # https://nicholasrui.com/2017/12/18/convolutions-and-the-game-of-life/\n",
    "    neigh = np.ones((3,3))\n",
    "    neigh[1][1] = 0\n",
    "    neighbors = convolve2d(num_board, neigh, mode='same', boundary='wrap')\n",
    "    board = (num_board == 1)\n",
    "    \n",
    "    # apply rules\n",
    "    underpop = (neighbors < 2) & board\n",
    "    survive = np.vectorize(lambda x: 2 <= x <= 3)(neighbors) & board\n",
    "    overpop = (neighbors > 3) & board\n",
    "    newgrow = (neighbors == 3) & ~board\n",
    "    nextboard = newgrow | survive\n",
    "\n",
    "    # plot it\n",
    "    fig, plot = plt.subplots(1, 3, figsize=(10,15))\n",
    "    for p in plot:\n",
    "        setplot(p)\n",
    "    plot[0].imshow(board, cmap='binary')\n",
    "    plot[1].imshow(underpop, cmap=diffuse)\n",
    "    plot[1].imshow(newgrow, cmap=grow)\n",
    "    plot[1].imshow(survive, cmap=persist)\n",
    "    plot[1].imshow(overpop, cmap=dense)\n",
    "    plot[2].imshow(nextboard, cmap='binary')\n",
    "    \n",
    "    if showfast:\n",
    "\n",
    "        # same thing, but fewer intermediary steps\n",
    "        cell_ct = np.ones((3,3))\n",
    "        cells = convolve2d(num_board, cell_ct, mode='same', boundary='wrap')\n",
    "        fastnext = (cells == 3) | (board & (cells == 4))\n",
    "        \n",
    "        # plot it\n",
    "        fig, plot = plt.subplots(1, 1, figsize=(3,3))\n",
    "        setplot([plot])\n",
    "        plot.imshow(fastnext, cmap='binary')\n",
    "    \n",
    "    return np.vectorize(lambda x: {True : 1, False: 0}[x])(nextboard)"
   ]
  },
  {
   "cell_type": "code",
   "execution_count": 257,
   "id": "fancy-fifth",
   "metadata": {},
   "outputs": [
    {
     "data": {
      "image/png": "[encoded data removed]",
      "text/plain": [
       "<Figure size 720x1080 with 3 Axes>"
      ]
     },
     "metadata": {},
     "output_type": "display_data"
    }
   ],
   "source": [
    "start = np.zeros((6,5))\n",
    "start[1][2] = 1\n",
    "start[2][3] = 1\n",
    "start[3][1] = 1\n",
    "start[3][2] = 1\n",
    "start[3][3] = 1\n",
    "\n",
    "middle = plotforward(start)"
   ]
  },
  {
   "cell_type": "code",
   "execution_count": 258,
   "id": "crazy-venue",
   "metadata": {},
   "outputs": [
    {
     "data": {
      "image/png": "[encoded data removed]",
      "text/plain": [
       "<Figure size 720x1080 with 3 Axes>"
      ]
     },
     "metadata": {},
     "output_type": "display_data"
    }
   ],
   "source": [
    "end = plotforward(middle)"
   ]
  },
  {
   "cell_type": "code",
   "execution_count": 312,
   "id": "ordinary-irish",
   "metadata": {},
   "outputs": [],
   "source": [
    "import itertools\n",
    "from math import ceil\n",
    "from pprint import pprint\n",
    "from sortedcontainers import SortedDict\n",
    "from matplotlib.colors import ListedColormap\n",
    "from IPython.display import display, Math, Latex\n",
    "\n",
    "bluish = clr.colorConverter.to_rgba('cornflowerblue',alpha=0.4)\n",
    "purplish = clr.colorConverter.to_rgba('darkorchid',alpha=0.6)\n",
    "\n",
    "inscope = clr.ListedColormap([transparent,bluish])\n",
    "targeted = clr.ListedColormap([transparent,purplish])\n",
    "lightgray = clr.ListedColormap(['white','lightgray'])\n",
    "\n",
    "    \n",
    "def storyboard(board, zoom=[]):\n",
    "    summary = []     # the current arc\n",
    "    plan = []        # the whole story\n",
    "    \n",
    "    # decide which cells to summarize and which to show details for\n",
    "    max_x = board.shape[1] - 1\n",
    "    max_y = board.shape[0] - 1\n",
    "    for y, rows in enumerate(board):\n",
    "        for x, cell in enumerate(rows):\n",
    "            summary.append((x, y))\n",
    "            if (x,y) in zoom:\n",
    "                plan.append(summary)\n",
    "                plan.append((x,y))\n",
    "                summary = []\n",
    "            if (x == max_x and y == max_y):\n",
    "                plan.append(summary)\n",
    "                summary = []\n",
    "    return plan"
   ]
  },
  {
   "cell_type": "markdown",
   "id": "incorrect-joseph",
   "metadata": {},
   "source": [
    "To run Life backwards we ask:\n",
    "> Given that this cell is alive/dead at $t$, what could it and its neighbors have been at $t-1$ ?\n",
    "\n",
    "Well, that would be the straightforward thing to do.\n",
    "But for some technical reasons that I'll discuss in a bit, we'll actually be asking:\n",
    "> Which neighbors could **not** have been alive at $t-1$\n",
    "\n",
    "In our 5x6 grid there are 30 cells to examine.\n",
    "We'll need a unique name for each one, so let's number them from top left to bottom right.\n",
    "\n",
    "For each of these, let's get these exclusions of neighbor behavior in terms of their neighbor's numbers.\n",
    "We'll use `-x` to refer to a dead neighbor, and `x` to refer to a living neighbor."
   ]
  },
  {
   "cell_type": "code",
   "execution_count": 313,
   "id": "cellular-logging",
   "metadata": {},
   "outputs": [],
   "source": [
    "scenes = storyboard(end, zoom=[(3,1),(1,3)])\n",
    "arc1 = scenes[0]\n",
    "example1 = scenes[1]\n",
    "arc2 = scenes[2]\n",
    "example2 = scenes[3]\n",
    "arc3 = scenes[4]"
   ]
  },
  {
   "cell_type": "code",
   "execution_count": 314,
   "id": "relative-trinity",
   "metadata": {},
   "outputs": [],
   "source": [
    "# -1 and 1 for dead/alive requires 1-based indexing\n",
    "def cell_ref(num, board):\n",
    "    width = board.shape[1]\n",
    "    x = (num - 1) % width\n",
    "    y = int(((num - 1 - x) / width))\n",
    "    return (x, y)\n",
    "\n",
    "# but x,y (0,0 is top-left) is handy too\n",
    "def cell_num(x, y, board):\n",
    "    return y * board.shape[1] + x + 1\n",
    "\n",
    "\n",
    "def get_neighborhood(x, y, board):\n",
    "    max_x = board.shape[1]\n",
    "    max_y = board.shape[0]\n",
    "    neighborhood = np.zeros((3,3))\n",
    "    for oy in range(-1,2):\n",
    "        for ox in range(-1,2):\n",
    "            ix = (x + ox) % max_x \n",
    "            iy = (y + oy) % max_y\n",
    "            neighborhood[oy + 1,ox + 1] = board[iy,ix]\n",
    "    return neighborhood\n",
    "            \n",
    "\n",
    "# A neighborhood around some cell:\n",
    "\n",
    "#  1 2 3\n",
    "#  4 5 6\n",
    "#  7 8 9\n",
    "\n",
    "# use this to translate the relative cell names to coordinate offsets\n",
    "# x/y coordinates have (0,0) in the upper left corner and (0,1) below that\n",
    "# so -y means \"up\"\n",
    "neighborhood_2_offset = {\n",
    "    1 : (-1, -1), 2 : ( 0,-1), 3 : (1, -1),\n",
    "    4 : (-1,  0), 5 : ( 0, 0), 6 : (1,  0),\n",
    "    7 : (-1,  1), 8 : ( 0, 1), 9 : (1,  1)\n",
    "}\n",
    "\n",
    "def summarize(story_arc, board, overlap=False):\n",
    "    \n",
    "    max_x = board.shape[1]\n",
    "    max_y = board.shape[0]\n",
    "    \n",
    "    if overlap:\n",
    "        \n",
    "        # just one plot\n",
    "        fig, plot = plt.subplots(1, 1, figsize=(2, 2))\n",
    "        setplot(plot)\n",
    "        plot.imshow(board, cmap=gray)\n",
    "        for x, y in story_arc:\n",
    "            scope = np.zeros((max_y, max_x))\n",
    "            for oy in range(-1,2):\n",
    "                for ox in range(-1,2):\n",
    "                    ix = (x + ox) % max_x \n",
    "                    iy = (y + oy) % max_y \n",
    "                    scope[iy, ix] = 1\n",
    "            plot.imshow(scope, cmap=inscope)\n",
    "        return \n",
    "\n",
    "    y_vals = set(c[1] for c in story_arc)\n",
    "    min_y = min(y_vals)\n",
    "    ct_y = len(y_vals)\n",
    "    ct_x = len(board[0])\n",
    "    \n",
    "    include = np.zeros((ct_y, ct_x))\n",
    "    for x, y in story_arc:\n",
    "        include[y - min_y][x] = 1\n",
    "\n",
    "    # layout\n",
    "    plots_by_y = SortedDict()\n",
    "    fig, all_plots = plt.subplots(ct_y, ct_x, figsize=(2*ct_x,2*ct_y))\n",
    "    for (y,x), show in np.ndenumerate(include):\n",
    "        plot = all_plots[y][x]\n",
    "        setplot(plot)\n",
    "        if show:   \n",
    "            plots_by_y.setdefault(y + min_y, SortedDict())[x] = plot\n",
    "        else:\n",
    "            plot.axis('off')\n",
    "            \n",
    "    # plots\n",
    "    for y, plots_by_x in plots_by_y.items():\n",
    "        for x, plot in plots_by_x.items():\n",
    "            num = cell_num(x,y,board)\n",
    "            plot.title.set_text(str(num))\n",
    "            scope = np.zeros((max_y, max_x))\n",
    "            bullseye = np.zeros((max_y, max_x))\n",
    "            \n",
    "            for oy in range(-1,2):\n",
    "                for ox in range(-1,2):\n",
    "                    ix = (x + ox) % max_x \n",
    "                    iy = (y + oy) % max_y \n",
    "                    if oy == ox == 0:\n",
    "                        bullseye[iy, ix] = 1\n",
    "                    else:\n",
    "                        scope[iy, ix] = 1\n",
    "            plot.imshow(board, cmap=gray)\n",
    "            plot.imshow(scope, cmap=inscope)\n",
    "            plot.imshow(bullseye, cmap=targeted)"
   ]
  },
  {
   "cell_type": "code",
   "execution_count": 315,
   "id": "involved-universal",
   "metadata": {},
   "outputs": [
    {
     "data": {
      "image/png": "[encoded data removed]",
      "text/plain": [
       "<Figure size 720x288 with 10 Axes>"
      ]
     },
     "metadata": {},
     "output_type": "display_data"
    }
   ],
   "source": [
    "summarize(arc1, end)"
   ]
  },
  {
   "cell_type": "markdown",
   "id": "turkish-witness",
   "metadata": {},
   "source": [
    "Notice that there is a lot of overlap here.\n",
    "Six of the nine cells in neighborhood 7 are also part of neighborhood 8."
   ]
  },
  {
   "cell_type": "code",
   "execution_count": 316,
   "id": "classified-wichita",
   "metadata": {},
   "outputs": [
    {
     "data": {
      "image/png": "[encoded data removed]",
      "text/plain": [
       "<Figure size 144x144 with 1 Axes>"
      ]
     },
     "metadata": {},
     "output_type": "display_data"
    }
   ],
   "source": [
    "summarize(arc1[6:8], end, overlap=True)"
   ]
  },
  {
   "cell_type": "markdown",
   "id": "featured-terminal",
   "metadata": {},
   "source": [
    "Neighborhoods around dead cells have 84 possible precursor states each (more on this in a minute), but we can ignore the ones that are incompatible with the adjacent neighborhood.\n",
    "\n",
    "Instead of carrying out compatibility check ourselves, we will express our understanding of the possible precursor states on a cell-by-cell basis, and then leave it to a SAT-solver to figure out how thosep\n",
    "\n",
    "Let's look more closely at how this works for the neighborhood around dead cell (3,1)"
   ]
  },
  {
   "cell_type": "code",
   "execution_count": 317,
   "id": "abandoned-tuesday",
   "metadata": {},
   "outputs": [
    {
     "data": {
      "text/plain": [
       "<Figure size 432x288 with 0 Axes>"
      ]
     },
     "metadata": {},
     "output_type": "display_data"
    }
   ],
   "source": [
    "%matplotlib inline\n",
    "from IPython.core.display import display, HTML\n",
    "from inspect import cleandoc\n",
    "import math\n",
    "transblack =  grow = clr.ListedColormap([transparent,'black'])\n",
    "transwhite =  grow = clr.ListedColormap([transparent, 'white'])\n",
    "transgreen =  grow = clr.ListedColormap([transparent, 'mediumspringgreen'])\n",
    "gray = clr.ListedColormap(['white','black'])\n",
    "\n",
    "plt.subplots_adjust(wspace=0.3, hspace=0.3)\n",
    "\n",
    "# \"-x\" means \"x is dead\"\n",
    "# \"x\" means \"x is alive\"\n",
    "# the following are equivalent (see: De Morgan's law)\n",
    "#     -(1 and 3) and -(-7 and -9) and -(4 and -6)\n",
    "#     (-1 or -3) and (7 or 9) and (-4 or 6)\n",
    "\n",
    "# I find the former easier to think about-\n",
    "# -(a list of scenarios to exclude the search for solutions)\n",
    "# but SAT solvers will want the latter (conjunctive normal form)\n",
    "# to express the situation above, return:\n",
    "#    [[1, 3], [-7, -9], [4, -6]],\n",
    "    \n",
    "def dead_precursors():\n",
    "    # assuming 5 is dead, what cannot be true of the preceeding state?\n",
    "    \n",
    "    # this is backwards\n",
    "    # TODO: sort it out\n",
    "    ALIVE = -1\n",
    "    DEAD = 1\n",
    "    by_explanation = {}\n",
    "    \n",
    "    def add(clause):\n",
    "        by_explanation.setdefault(expl, []).append(clause)\n",
    "    \n",
    "    palette = set(range(1,10))\n",
    "    neighbors = palette - {5}\n",
    "\n",
    "    expl = cleandoc(\"\"\"\n",
    "        These are the histories with exactly three living neighbors.\n",
    "          - if 5 was dead, it would have triggered the growth rule and be alive now\n",
    "          - if 5 was alive, it would have triggered the survive rule and be alive now\n",
    "\n",
    "        5 is not alive, so we can exclude all of these. The center cell is omitted because they can be excluded regardless of its value.\"\"\")\n",
    "\n",
    "    for three in itertools.combinations(neighbors, 3):\n",
    "\n",
    "        alive = { ALIVE * x for x in (neighbors - set(three)) }\n",
    "        dead = { DEAD * x for x in (neighbors - {abs(x) for x in alive}) }\n",
    "\n",
    "        # excluded precursor, states joined by AND's\n",
    "        clause = tuple(sorted(alive.union(dead)))\n",
    "        add(clause)\n",
    "\n",
    "    expl = cleandoc(\"\"\"\n",
    "        These are the histories where the center cell is alive and has  exactly two living neighbors.\n",
    "        They would have triggered the 'survive' rule, so we can exclude them because our center cell is dead.\"\"\")\n",
    "\n",
    "    for two in itertools.combinations(neighbors, 2):\n",
    "\n",
    "        alive = { ALIVE * x for x in (neighbors - set(two)) }\n",
    "        dead = { DEAD * x for x in (neighbors - {abs(x) for x in alive}) }\n",
    "\n",
    "        # this makes sense to me\n",
    "        #impossible_precursors.add(alive.union(dead).union({ALIVE * 5}))\n",
    "\n",
    "        # but this is what elvenmonk has\n",
    "        clause = alive.union(dead).union({DEAD * 5})\n",
    "        add(clause)\n",
    "        \n",
    "    return by_explanation\n",
    "\n",
    "def alive_precursors():\n",
    "    \"\"\"\n",
    "    assuming 5 is alive, what cannot be true of the preceeding state?\n",
    "    \"\"\"\n",
    "    \n",
    "    ALIVE = 1\n",
    "    DEAD = -1\n",
    "    palette = set(range(1,10))\n",
    "    neighbors = palette - {5}\n",
    "    \n",
    "    by_explanation = {}\n",
    "    \n",
    "    def add(clause):\n",
    "        by_explanation.setdefault(expl, []).append(clause)\n",
    "        \n",
    "\n",
    "    expl = cleandoc(\n",
    "        \"\"\"\n",
    "        These are the histories with four living neighbors.  They lead to a dead cell, regardless of the center cell's previous\n",
    "        state, so we can leave the center cell unspecified.\n",
    "        \"\"\")\n",
    "    \n",
    "    for four in itertools.combinations(neighbors, 4):\n",
    "        alive = { ALIVE * x for x in (neighbors - set(four)) }\n",
    "        clause = tuple(sorted(alive))\n",
    "        add(clause)\n",
    "\n",
    "    expl = cleandoc(\n",
    "        \"\"\"\n",
    "        Let's assume that the center cell was dead.  Then it must have recently grown, which requires three alive neighbors.\n",
    "        Any history with six (or more) dead neighbors has only two (or fewer alive)--which is not enough to trigger the\n",
    "        growth rule.\n",
    "        \"\"\")\n",
    "    \n",
    "    for six in itertools.combinations(neighbors, 6):\n",
    "        dead = { DEAD * x for x in six }.union({DEAD * 5})\n",
    "        clause = tuple(sorted(dead))\n",
    "        add(clause)\n",
    "\n",
    "    expl = cleandoc(\n",
    "        \"\"\"\n",
    "        If we assume that the center cell was alive, then it must have recently survived, which requires two or three alive \n",
    "        neighbors. Any history with seven (or more) dead neighbors had one (or fewer) living neighbor--which is not enough \n",
    "        to trigger the survive rule.\n",
    "        \"\"\")\n",
    "\n",
    "    for seven in itertools.combinations(neighbors, 7):\n",
    "        # this makes sense to me\n",
    "        dead = { DEAD * x for x in seven }.union({ALIVE * 5})\n",
    "\n",
    "        # but this is what elvenmonk has, and they seem pretty smart\n",
    "        #dead = { DEAD * x for x in seven }\n",
    "        clause = tuple(sorted(dead))\n",
    "        add(clause)\n",
    "    \n",
    "    return by_explanation\n",
    "\n",
    "# TODO: make \"tell\" call this\n",
    "def get_excluded_histories(cell, board):\n",
    "    \n",
    "    x, y = cell\n",
    "    global_cell_num = cell_num(x, y, board)\n",
    "    neighborhood = get_neighborhood(x,y,board)\n",
    "    alive = bool(neighborhood[1,1])\n",
    "    \n",
    "    if alive:\n",
    "        precursors = alive_precursors()\n",
    "    else:\n",
    "        precursors = dead_precursors()\n",
    "    \n",
    "    excluded_histories = []\n",
    "    for history_group in precursors.values():\n",
    "        for scenario in history_group:\n",
    "        \n",
    "            excluded_history = []\n",
    "            \n",
    "            # translate neighborhood coords to global cell numbers\n",
    "            for val, (ox, oy) in map(lambda x:(x, neighborhood_2_offset[abs(x)]), scenario):\n",
    "\n",
    "                # neighborhood coordinates\n",
    "                nx = ox + 1\n",
    "                ny = oy + 1\n",
    "\n",
    "                # global coordinates\n",
    "                ix = (x + ox) % board.shape[1]\n",
    "                iy = (y + oy) % board.shape[0]\n",
    "\n",
    "                # clause components\n",
    "                if val > 0:\n",
    "                    ref = cell_num(ix, iy, board)\n",
    "                else:\n",
    "                    ref = -cell_num(ix, iy, board)\n",
    "                    \n",
    "                excluded_history.append(ref)\n",
    "                \n",
    "            excluded_histories.append(excluded_history)\n",
    "\n",
    "    ct = len(excluded_histories)\n",
    "    print(f\"cell {global_cell_num}: excluded {ct} histories\")\n",
    "    \n",
    "    return excluded_histories\n",
    "\n",
    "\n",
    "def tell(story, board, showexpr=False):\n",
    "    \n",
    "    # the setting\n",
    "    x, y = story\n",
    "    max_x = board.shape[1]\n",
    "    max_y = board.shape[0]\n",
    "    global_cell_num = cell_num(x, y, board)\n",
    "    neighborhood = get_neighborhood(x,y,board)\n",
    "    \n",
    "    alive = bool(neighborhood[1,1])\n",
    "    if alive:\n",
    "        alive_msg = \"alive\"\n",
    "    else:\n",
    "        alive_msg = \"dead\"\n",
    "    \n",
    "    # two plots\n",
    "    fig, plots = plt.subplots(1, 2, figsize=(4, 2))\n",
    "    for plot in plots:\n",
    "        setplot(plot)\n",
    "    fig.text(0.15, 0.92, \n",
    "             f\"\"\" \n",
    "             Given that its center cell  is {alive_msg}, which precursors can we rule out?\n",
    "             \n",
    "             \"\"\", ha='left', fontsize=14)\n",
    "        \n",
    "    # zoomed out\n",
    "    plot = plots[0]\n",
    "    plot.imshow(board, cmap=gray)\n",
    "    scope = np.zeros((max_y, max_x))\n",
    "    for oy in range(-1,2):\n",
    "        for ox in range(-1,2):\n",
    "            ix = (x + ox) % max_x \n",
    "            iy = (y + oy) % max_y \n",
    "            scope[iy, ix] = 1\n",
    "    plot.imshow(scope, cmap=inscope)\n",
    "    \n",
    "    # zoomed in\n",
    "    plot = plots[1]\n",
    "    plot.imshow(neighborhood, cmap=gray)\n",
    "    targetmask = np.zeros((3,3))\n",
    "    targetmask[1,1] = 1\n",
    "    c = 0\n",
    "    mode = None\n",
    "    for i in range(3):\n",
    "        for j in range(3):\n",
    "            ix = i + x - 1\n",
    "            iy = j + y - 1\n",
    "            label = cell_num(ix, iy, board)\n",
    "            \n",
    "            if neighborhood[j,i]:\n",
    "                mode = 'alive'\n",
    "                plot.imshow(targetmask != 0, cmap=transblack)\n",
    "                plot.annotate(label,(i,j), color='w', size=14, weight=\"bold\", ha=\"center\", va=\"center\")\n",
    "            else:\n",
    "                mode = 'dead'\n",
    "                plot.imshow(targetmask != 0, cmap=transwhite)\n",
    "                plot.annotate(label,(i,j), size=14, weight=\"bold\", ha=\"center\", va=\"center\")\n",
    "            c += 1\n",
    "            \n",
    "    # added clauses depend only on whether the focussed cell is alive or dead\n",
    "    if neighborhood[1][1]:\n",
    "        excluded_by_explanation = alive_precursors()\n",
    "    else:\n",
    "        excluded_by_explanation = dead_precursors()\n",
    "        \n",
    "    # a batch of plots for each class of excluded precursor\n",
    "    for explanation, exclusion in excluded_by_explanation.items():\n",
    "        \n",
    "        if showexpr:\n",
    "            width = 10\n",
    "        else:\n",
    "            width = 12\n",
    "        height = math.ceil(len(exclusion) / width)\n",
    "        \n",
    "    \n",
    "        plots = []\n",
    "        if showexpr:\n",
    "            fig, iplots = plt.subplots(height, width, figsize=(1.5 * width, 2 * height))\n",
    "            fig.text(0.15, 0.92, explanation, ha='left', fontsize=14)\n",
    "        else:\n",
    "            fig, iplots = plt.subplots(height, width, figsize=(width, height))\n",
    "            fig.tight_layout()\n",
    "            fig.text(0.05, 1.0, explanation, ha='left', fontsize=14)\n",
    "        \n",
    "        for row in iplots.tolist():\n",
    "            try:\n",
    "                for p in row:\n",
    "                    setplot(p)\n",
    "                    plots.append(p)\n",
    "            except TypeError:\n",
    "                setplot(row)\n",
    "                plots.append(row)\n",
    "                \n",
    "        cadence = 0\n",
    "        for ex_num, scenario in enumerate(exclusion):\n",
    "            \n",
    "            # a tiny plot for each clause\n",
    "            cadence += 1\n",
    "            plot = plots[ex_num]\n",
    "            p_alive = np.zeros((3,3))\n",
    "            p_dead = np.zeros((3,3))\n",
    "            unused = set(range(1,10)) - {5}\n",
    "            \n",
    "            # collect global references to each clause component\n",
    "            globalref = []\n",
    "            for val, (ox, oy) in map(lambda x:(x, neighborhood_2_offset[abs(x)]), scenario):\n",
    "\n",
    "                # neighborhood coordinates\n",
    "                nx = ox + 1\n",
    "                ny = oy + 1\n",
    "                \n",
    "                # global coordinates\n",
    "                ix = (x + ox) % board.shape[1]\n",
    "                iy = (y + oy) % board.shape[0]\n",
    "                \n",
    "                # clause components\n",
    "                unused -= {val}\n",
    "                if val > 0:\n",
    "                    p_alive[ny][nx] = 1\n",
    "                    ref = cell_num(ix, iy, board)\n",
    "                else:\n",
    "                    p_dead[ny][nx] = 1\n",
    "                    ref = -cell_num(ix, iy, board)\n",
    "                globalref.append(ref)\n",
    "                \n",
    "            if showexpr:\n",
    "                if (cadence % 10) in [2, 9]:\n",
    "                   title = ','.join(map(str, globalref))\n",
    "                   plot.title.set_text(title)\n",
    "                    \n",
    "            p_unspecified = np.ones((3,3)) - p_alive - p_dead\n",
    "            \n",
    "            plot.imshow(p_alive, cmap=transblack)\n",
    "            plot.imshow(p_dead, cmap=transwhite)\n",
    "            plot.imshow(p_unspecified, cmap=transgreen)\n",
    "            \n",
    "        for i in range(cadence, len(plots)):\n",
    "            plots[i].axis('off')\n"
   ]
  },
  {
   "cell_type": "code",
   "execution_count": 318,
   "id": "electoral-guarantee",
   "metadata": {
    "scrolled": false
   },
   "outputs": [
    {
     "data": {
      "image/png": "[encoded data removed]",
      "text/plain": [
       "<Figure size 288x144 with 2 Axes>"
      ]
     },
     "metadata": {},
     "output_type": "display_data"
    },
    {
     "data": {
      "image/png": "[encoded data removed]",
      "text/plain": [
       "<Figure size 864x360 with 60 Axes>"
      ]
     },
     "metadata": {},
     "output_type": "display_data"
    },
    {
     "data": {
      "image/png": "[encoded data removed]",
      "text/plain": [
       "<Figure size 864x216 with 36 Axes>"
      ]
     },
     "metadata": {},
     "output_type": "display_data"
    }
   ],
   "source": [
    "tell(example1, end)"
   ]
  },
  {
   "cell_type": "markdown",
   "id": "numerical-edgar",
   "metadata": {},
   "source": [
    "Our SAT solver will consume expressions derived from these states.\n",
    "As we iterate, we're compiling a list of histories that we can explicitly exclude."
   ]
  },
  {
   "cell_type": "code",
   "execution_count": 319,
   "id": "upper-poland",
   "metadata": {},
   "outputs": [
    {
     "data": {
      "image/png": "[encoded data removed]",
      "text/plain": [
       "<Figure size 720x432 with 15 Axes>"
      ]
     },
     "metadata": {},
     "output_type": "display_data"
    }
   ],
   "source": [
    "summarize(arc2, end)"
   ]
  },
  {
   "cell_type": "markdown",
   "id": "administrative-ceramic",
   "metadata": {},
   "source": [
    "Let's pause once more to examine the dissalowed precursor states, this time on a living node."
   ]
  },
  {
   "cell_type": "code",
   "execution_count": 320,
   "id": "alive-funds",
   "metadata": {},
   "outputs": [
    {
     "data": {
      "image/png": "[encoded data removed]",
      "text/plain": [
       "<Figure size 288x144 with 2 Axes>"
      ]
     },
     "metadata": {},
     "output_type": "display_data"
    },
    {
     "data": {
      "image/png": "[encoded data removed]",
      "text/plain": [
       "<Figure size 864x432 with 72 Axes>"
      ]
     },
     "metadata": {},
     "output_type": "display_data"
    },
    {
     "data": {
      "image/png": "[encoded data removed]",
      "text/plain": [
       "<Figure size 864x216 with 36 Axes>"
      ]
     },
     "metadata": {},
     "output_type": "display_data"
    },
    {
     "data": {
      "image/png": "[encoded data removed]",
      "text/plain": [
       "<Figure size 864x72 with 12 Axes>"
      ]
     },
     "metadata": {},
     "output_type": "display_data"
    }
   ],
   "source": [
    "tell(example2, end)"
   ]
  },
  {
   "cell_type": "code",
   "execution_count": 321,
   "id": "needed-mystery",
   "metadata": {},
   "outputs": [
    {
     "data": {
      "image/png": "[encoded data removed]",
      "text/plain": [
       "<Figure size 720x432 with 15 Axes>"
      ]
     },
     "metadata": {},
     "output_type": "display_data"
    }
   ],
   "source": [
    "summarize(arc3, end)"
   ]
  },
  {
   "cell_type": "code",
   "execution_count": 322,
   "id": "filled-paraguay",
   "metadata": {
    "scrolled": true
   },
   "outputs": [
    {
     "name": "stdout",
     "output_type": "stream",
     "text": [
      "cell 1: excluded 84 histories\n",
      "cell 2: excluded 84 histories\n",
      "cell 3: excluded 84 histories\n",
      "cell 4: excluded 84 histories\n",
      "cell 5: excluded 84 histories\n",
      "cell 6: excluded 84 histories\n",
      "cell 7: excluded 84 histories\n",
      "cell 8: excluded 84 histories\n",
      "cell 9: excluded 84 histories\n",
      "cell 10: excluded 84 histories\n",
      "cell 11: excluded 84 histories\n",
      "cell 12: excluded 84 histories\n",
      "cell 13: excluded 84 histories\n",
      "cell 14: excluded 106 histories\n",
      "cell 15: excluded 84 histories\n",
      "cell 16: excluded 84 histories\n",
      "cell 17: excluded 106 histories\n",
      "cell 18: excluded 84 histories\n",
      "cell 19: excluded 106 histories\n",
      "cell 20: excluded 84 histories\n",
      "cell 21: excluded 84 histories\n",
      "cell 22: excluded 84 histories\n",
      "cell 23: excluded 106 histories\n",
      "cell 24: excluded 106 histories\n",
      "cell 25: excluded 84 histories\n",
      "cell 26: excluded 84 histories\n",
      "cell 27: excluded 84 histories\n",
      "cell 28: excluded 84 histories\n",
      "cell 29: excluded 84 histories\n",
      "cell 30: excluded 84 histories\n",
      "total SAT clauses: 2630\n"
     ]
    }
   ],
   "source": [
    "all_excluded_histories = []\n",
    "for arc in storyboard(end):\n",
    "    for cell in arc:\n",
    "        for history in get_excluded_histories(cell, end):\n",
    "            all_excluded_histories.append(history)\n",
    "print(f'total SAT clauses: {len(all_excluded_histories)}')"
   ]
  },
  {
   "cell_type": "code",
   "execution_count": 324,
   "id": "light-beverage",
   "metadata": {},
   "outputs": [],
   "source": [
    "cnf_clauses = all_excluded_histories"
   ]
  },
  {
   "cell_type": "code",
   "execution_count": 347,
   "id": "nutritional-cuisine",
   "metadata": {},
   "outputs": [
    {
     "name": "stdout",
     "output_type": "stream",
     "text": [
      "-1 0 0\n",
      "-2 1 0\n",
      "-3 2 0\n",
      "-4 3 0\n",
      "-5 4 0\n",
      "-6 0 1\n",
      "-7 1 1\n",
      "8 2 1\n",
      "9 3 1\n",
      "10 4 1\n",
      "11 0 2\n",
      "-12 1 2\n",
      "13 2 2\n",
      "-14 3 2\n",
      "-15 4 2\n",
      "-16 0 3\n",
      "-17 1 3\n",
      "18 2 3\n",
      "-19 3 3\n",
      "20 4 3\n",
      "-21 0 4\n",
      "22 1 4\n",
      "23 2 4\n",
      "24 3 4\n",
      "25 4 4\n",
      "-26 0 5\n",
      "27 1 5\n",
      "28 2 5\n",
      "-29 3 5\n",
      "-30 4 5\n"
     ]
    }
   ],
   "source": [
    "import pycosat\n",
    "#solutions = []\n",
    "for cell in pycosat.solve(cnf_clauses):\n",
    "    slate = np.zeros(end.shape)\n",
    "    x, y = cell_ref(abs(cell), end)\n",
    "    print(cell, x, y)"
   ]
  },
  {
   "cell_type": "code",
   "execution_count": 332,
   "id": "undefined-seating",
   "metadata": {},
   "outputs": [
    {
     "data": {
      "text/plain": [
       "2873"
      ]
     },
     "execution_count": 332,
     "metadata": {},
     "output_type": "execute_result"
    }
   ],
   "source": [
    "len(solutions)"
   ]
  },
  {
   "cell_type": "code",
   "execution_count": 329,
   "id": "collective-trout",
   "metadata": {},
   "outputs": [
    {
     "data": {
      "text/plain": [
       "[1,\n",
       " -2,\n",
       " -3,\n",
       " -4,\n",
       " -5,\n",
       " -6,\n",
       " -7,\n",
       " 8,\n",
       " 9,\n",
       " 10,\n",
       " 11,\n",
       " -12,\n",
       " 13,\n",
       " -14,\n",
       " -15,\n",
       " -16,\n",
       " -17,\n",
       " 18,\n",
       " -19,\n",
       " 20,\n",
       " -21,\n",
       " 22,\n",
       " 23,\n",
       " 24,\n",
       " 25,\n",
       " -26,\n",
       " 27,\n",
       " 28,\n",
       " -29,\n",
       " -30]"
      ]
     },
     "execution_count": 329,
     "metadata": {},
     "output_type": "execute_result"
    }
   ],
   "source": [
    "solutions[1]"
   ]
  },
  {
   "cell_type": "code",
   "execution_count": null,
   "id": "forward-financing",
   "metadata": {},
   "outputs": [],
   "source": []
  }
 ],
 "metadata": {
  "kernelspec": {
   "display_name": "Python 3",
   "language": "python",
   "name": "python3"
  },
  "language_info": {
   "codemirror_mode": {
    "name": "ipython",
    "version": 3
   },
   "file_extension": ".py",
   "mimetype": "text/x-python",
   "name": "python",
   "nbconvert_exporter": "python",
   "pygments_lexer": "ipython3",
   "version": "3.7.3"
  }
 },
 "nbformat": 4,
 "nbformat_minor": 5
}
